{
 "cells": [
  {
   "cell_type": "code",
   "execution_count": 1,
   "metadata": {},
   "outputs": [],
   "source": [
    "import requests\n",
    "import json\n",
    "import finnhub"
   ]
  },
  {
   "cell_type": "code",
   "execution_count": 2,
   "metadata": {},
   "outputs": [],
   "source": [
    "key = 'cfq45l1r01qmi6j4em8gcfq45l1r01qmi6j4em90'"
   ]
  },
  {
   "cell_type": "code",
   "execution_count": 3,
   "metadata": {},
   "outputs": [],
   "source": [
    "finnhub_client = finnhub.Client(api_key=key)"
   ]
  },
  {
   "cell_type": "code",
   "execution_count": 5,
   "metadata": {},
   "outputs": [],
   "source": [
    "company_ticker = 'AAPL'\n",
    "start_date = '2020-01-01'\n",
    "end_date = '2020-06-11'"
   ]
  },
  {
   "cell_type": "code",
   "execution_count": 7,
   "metadata": {},
   "outputs": [],
   "source": [
    "filing_data = finnhub_client.filings(symbol=company_ticker, _from=start_date, to=end_date)"
   ]
  },
  {
   "cell_type": "code",
   "execution_count": 8,
   "metadata": {},
   "outputs": [
    {
     "data": {
      "text/plain": [
       "{'accessNumber': '0000320193-20-000056',\n",
       " 'symbol': 'AAPL',\n",
       " 'cik': '320193',\n",
       " 'form': '4',\n",
       " 'filedDate': '2020-05-12 00:00:00',\n",
       " 'acceptedDate': '2020-05-12 18:30:32',\n",
       " 'reportUrl': 'https://www.sec.gov/Archives/edgar/data/1631982/000032019320000056/wf-form4_158932261319105.xml',\n",
       " 'filingUrl': 'https://www.sec.gov/Archives/edgar/data/1631982/000032019320000056/0000320193-20-000056-index.html'}"
      ]
     },
     "execution_count": 8,
     "metadata": {},
     "output_type": "execute_result"
    }
   ],
   "source": [
    "filing_data[0]"
   ]
  },
  {
   "cell_type": "code",
   "execution_count": null,
   "metadata": {},
   "outputs": [],
   "source": []
  }
 ],
 "metadata": {
  "kernelspec": {
   "display_name": "base",
   "language": "python",
   "name": "python3"
  },
  "language_info": {
   "codemirror_mode": {
    "name": "ipython",
    "version": 3
   },
   "file_extension": ".py",
   "mimetype": "text/x-python",
   "name": "python",
   "nbconvert_exporter": "python",
   "pygments_lexer": "ipython3",
   "version": "3.10.9"
  },
  "orig_nbformat": 4
 },
 "nbformat": 4,
 "nbformat_minor": 2
}
